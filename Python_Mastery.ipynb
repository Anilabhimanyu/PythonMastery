{
  "nbformat": 4,
  "nbformat_minor": 0,
  "metadata": {
    "colab": {
      "provenance": [],
      "authorship_tag": "ABX9TyOfH6KecAhqde3h3STsEHJU",
      "include_colab_link": true
    },
    "kernelspec": {
      "name": "python3",
      "display_name": "Python 3"
    },
    "language_info": {
      "name": "python"
    }
  },
  "cells": [
    {
      "cell_type": "markdown",
      "metadata": {
        "id": "view-in-github",
        "colab_type": "text"
      },
      "source": [
        "<a href=\"https://colab.research.google.com/github/Anilabhimanyu/PythonMastery/blob/main/Python_Mastery.ipynb\" target=\"_parent\"><img src=\"https://colab.research.google.com/assets/colab-badge.svg\" alt=\"Open In Colab\"/></a>"
      ]
    },
    {
      "cell_type": "markdown",
      "source": [
        "### 1. Write a Python program to print \"Hello, World!\""
      ],
      "metadata": {
        "id": "pzf0DEV63gng"
      }
    },
    {
      "cell_type": "code",
      "source": [
        "print(\"Hello, World!\")"
      ],
      "metadata": {
        "colab": {
          "base_uri": "https://localhost:8080/"
        },
        "id": "ga0BSO6e3lXU",
        "outputId": "0b721177-facb-476c-b209-9f4f3b185515"
      },
      "execution_count": 1,
      "outputs": [
        {
          "output_type": "stream",
          "name": "stdout",
          "text": [
            "Hello, World!\n"
          ]
        }
      ]
    },
    {
      "cell_type": "markdown",
      "source": [
        "### 2. Create a program that takes user input and prints it back.\n"
      ],
      "metadata": {
        "id": "Xc7lWNq83ssR"
      }
    },
    {
      "cell_type": "code",
      "source": [
        "'''\n",
        "Algorithm\n",
        "1. Read user input\n",
        "2. Store it in some variable\n",
        "3. print the same value\n",
        "'''\n",
        "\n",
        "user_input=input(\"enter input here\")\n",
        "print(user_input)\n",
        "\n",
        "# opt: why we need to store in user_input variable, which again req memory,\n",
        "print(input(\"enter input here \"))"
      ],
      "metadata": {
        "colab": {
          "base_uri": "https://localhost:8080/"
        },
        "id": "7a7LYewY3psN",
        "outputId": "344b1003-b28b-40b5-e694-a506a7f941a2"
      },
      "execution_count": 3,
      "outputs": [
        {
          "output_type": "stream",
          "name": "stdout",
          "text": [
            "enter input hereanil\n",
            "anil\n",
            "enter input here anil\n",
            "anil\n"
          ]
        }
      ]
    },
    {
      "cell_type": "markdown",
      "source": [
        "### 3. Write a program to check if a number is even or odd."
      ],
      "metadata": {
        "id": "Yb8D143m4sjf"
      }
    },
    {
      "cell_type": "code",
      "source": [
        "'''\n",
        "Algorithm\n",
        "1. Take number as a input\n",
        "2. check the remainder, then give result\n",
        "3. if 0 even else odd\n",
        "'''\n",
        "\n",
        "num=int(input('enter number :'))\n",
        "if num%2==0:\n",
        "  print(\"even\")\n",
        "else:\n",
        "  print(\"odd\")"
      ],
      "metadata": {
        "colab": {
          "base_uri": "https://localhost:8080/"
        },
        "id": "wPfAgN1k4Wpq",
        "outputId": "4052c6af-1518-4d57-fd29-d8c90672690b"
      },
      "execution_count": 6,
      "outputs": [
        {
          "output_type": "stream",
          "name": "stdout",
          "text": [
            "enter number :45\n",
            "odd\n"
          ]
        }
      ]
    },
    {
      "cell_type": "markdown",
      "source": [
        "### 4. Implement a calculator with basic operations (+, -, *, /)."
      ],
      "metadata": {
        "id": "J_O0-Bom5blb"
      }
    },
    {
      "cell_type": "code",
      "source": [
        "'''\n",
        "Algorithm:\n",
        "1. For calculator, atleast 2 nums mandatory\n",
        "2. then ask for type of operation user expecting i.e, +,-, * or /\n",
        "3. print result\n",
        "'''\n",
        "\n",
        "def result(num):\n",
        "  print(f\"result: {num}\")\n",
        "\n",
        "while True:\n",
        "  print(\"Chose your option\")\n",
        "  print(\"1: Add\")\n",
        "  print(\"2. Sub\")\n",
        "  print(\"3. Mul\")\n",
        "  print(\"4. Div\")\n",
        "  print(\"5. Exit\")\n",
        "\n",
        "  choice = int(input(\"Enter your choice: \"))\n",
        "  if choice == 5:\n",
        "    break\n",
        "\n",
        "  num1 = int(input(\"enter number1\"))\n",
        "  num2 = int(input(\"enter number2\"))\n",
        "\n",
        "  if choice == 1:\n",
        "    result(num1+num2)\n",
        "  elif choice == 2:\n",
        "    result(num2-num1)\n",
        "  elif choice == 3:\n",
        "    result(num1*num2)\n",
        "  elif choice == 4:\n",
        "    result(num1/num2)\n",
        "  else:\n",
        "    print(\"invalid choice\")\n",
        ""
      ],
      "metadata": {
        "colab": {
          "base_uri": "https://localhost:8080/"
        },
        "id": "0At9g7Pi5EJh",
        "outputId": "fda86f2d-b4ba-46ca-9f14-01471e11fa51"
      },
      "execution_count": 8,
      "outputs": [
        {
          "name": "stdout",
          "output_type": "stream",
          "text": [
            "Chose your option\n",
            "1: Add\n",
            "2. Sub\n",
            "3. Mul\n",
            "4. Div\n",
            "5. Exit\n",
            "Enter your choice: 1\n",
            "enter number167\n",
            "enter number267\n",
            "result: 134\n",
            "Chose your option\n",
            "1: Add\n",
            "2. Sub\n",
            "3. Mul\n",
            "4. Div\n",
            "5. Exit\n",
            "Enter your choice: 5\n"
          ]
        }
      ]
    },
    {
      "cell_type": "code",
      "source": [],
      "metadata": {
        "id": "hUzmVovT9ZiF"
      },
      "execution_count": null,
      "outputs": []
    }
  ]
}