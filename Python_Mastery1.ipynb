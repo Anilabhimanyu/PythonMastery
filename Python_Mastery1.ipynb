{
  "nbformat": 4,
  "nbformat_minor": 0,
  "metadata": {
    "colab": {
      "provenance": [],
      "authorship_tag": "ABX9TyOsNu1mDyPNwnQHKo4CsMi1",
      "include_colab_link": true
    },
    "kernelspec": {
      "name": "python3",
      "display_name": "Python 3"
    },
    "language_info": {
      "name": "python"
    }
  },
  "cells": [
    {
      "cell_type": "markdown",
      "metadata": {
        "id": "view-in-github",
        "colab_type": "text"
      },
      "source": [
        "<a href=\"https://colab.research.google.com/github/Anilabhimanyu/PythonMastery/blob/main/Python_Mastery1.ipynb\" target=\"_parent\"><img src=\"https://colab.research.google.com/assets/colab-badge.svg\" alt=\"Open In Colab\"/></a>"
      ]
    },
    {
      "cell_type": "markdown",
      "source": [
        "### 1. Write a Python program to print \"Hello, World!\""
      ],
      "metadata": {
        "id": "pzf0DEV63gng"
      }
    },
    {
      "cell_type": "code",
      "source": [
        "print(\"Hello, World!\")"
      ],
      "metadata": {
        "colab": {
          "base_uri": "https://localhost:8080/"
        },
        "id": "ga0BSO6e3lXU",
        "outputId": "0b721177-facb-476c-b209-9f4f3b185515"
      },
      "execution_count": null,
      "outputs": [
        {
          "output_type": "stream",
          "name": "stdout",
          "text": [
            "Hello, World!\n"
          ]
        }
      ]
    },
    {
      "cell_type": "markdown",
      "source": [
        "### 2. Create a program that takes user input and prints it back.\n"
      ],
      "metadata": {
        "id": "Xc7lWNq83ssR"
      }
    },
    {
      "cell_type": "code",
      "source": [
        "'''\n",
        "Algorithm\n",
        "1. Read user input\n",
        "2. Store it in some variable\n",
        "3. print the same value\n",
        "'''\n",
        "\n",
        "user_input=input(\"enter input here\")\n",
        "print(user_input)\n",
        "\n",
        "# opt: why we need to store in user_input variable, which again req memory,\n",
        "print(input(\"enter input here \"))"
      ],
      "metadata": {
        "colab": {
          "base_uri": "https://localhost:8080/"
        },
        "id": "7a7LYewY3psN",
        "outputId": "344b1003-b28b-40b5-e694-a506a7f941a2"
      },
      "execution_count": null,
      "outputs": [
        {
          "output_type": "stream",
          "name": "stdout",
          "text": [
            "enter input hereanil\n",
            "anil\n",
            "enter input here anil\n",
            "anil\n"
          ]
        }
      ]
    },
    {
      "cell_type": "markdown",
      "source": [
        "### 3. Write a program to check if a number is even or odd."
      ],
      "metadata": {
        "id": "Yb8D143m4sjf"
      }
    },
    {
      "cell_type": "code",
      "source": [
        "'''\n",
        "Algorithm\n",
        "1. Take number as a input\n",
        "2. check the remainder, then give result\n",
        "3. if 0 even else odd\n",
        "'''\n",
        "\n",
        "num=int(input('enter number :'))\n",
        "if num%2==0:\n",
        "  print(\"even\")\n",
        "else:\n",
        "  print(\"odd\")"
      ],
      "metadata": {
        "colab": {
          "base_uri": "https://localhost:8080/"
        },
        "id": "wPfAgN1k4Wpq",
        "outputId": "4052c6af-1518-4d57-fd29-d8c90672690b"
      },
      "execution_count": null,
      "outputs": [
        {
          "output_type": "stream",
          "name": "stdout",
          "text": [
            "enter number :45\n",
            "odd\n"
          ]
        }
      ]
    },
    {
      "cell_type": "markdown",
      "source": [
        "### 4. Implement a calculator with basic operations (+, -, *, /).\n",
        "\n"
      ],
      "metadata": {
        "id": "J_O0-Bom5blb"
      }
    },
    {
      "cell_type": "code",
      "source": [
        "'''\n",
        "Algorithm:\n",
        "1. For calculator, atleast 2 nums mandatory\n",
        "2. then ask for type of operation user expecting i.e, +,-, * or /\n",
        "3. print result\n",
        "'''\n",
        "\n",
        "def result(num):\n",
        "  print(f\"result: {num}\")\n",
        "\n",
        "while True:\n",
        "  print(\"Chose your option\")\n",
        "  print(\"1: Add\")\n",
        "  print(\"2. Sub\")\n",
        "  print(\"3. Mul\")\n",
        "  print(\"4. Div\")\n",
        "  print(\"5. Exit\")\n",
        "\n",
        "  choice = int(input(\"Enter your choice: \"))\n",
        "  if choice == 5:\n",
        "    break\n",
        "\n",
        "  num1 = int(input(\"enter number1\"))\n",
        "  num2 = int(input(\"enter number2\"))\n",
        "\n",
        "  if choice == 1:\n",
        "    result(num1+num2)\n",
        "  elif choice == 2:\n",
        "    result(num2-num1)\n",
        "  elif choice == 3:\n",
        "    result(num1*num2)\n",
        "  elif choice == 4:\n",
        "    result(num1/num2)\n",
        "  else:\n",
        "    print(\"invalid choice\")\n"
      ],
      "metadata": {
        "colab": {
          "base_uri": "https://localhost:8080/"
        },
        "id": "0At9g7Pi5EJh",
        "outputId": "fda86f2d-b4ba-46ca-9f14-01471e11fa51"
      },
      "execution_count": null,
      "outputs": [
        {
          "name": "stdout",
          "output_type": "stream",
          "text": [
            "Chose your option\n",
            "1: Add\n",
            "2. Sub\n",
            "3. Mul\n",
            "4. Div\n",
            "5. Exit\n",
            "Enter your choice: 1\n",
            "enter number167\n",
            "enter number267\n",
            "result: 134\n",
            "Chose your option\n",
            "1: Add\n",
            "2. Sub\n",
            "3. Mul\n",
            "4. Div\n",
            "5. Exit\n",
            "Enter your choice: 5\n"
          ]
        }
      ]
    },
    {
      "cell_type": "markdown",
      "source": [
        "### 5. Find largest in 3 nums using if-else\n"
      ],
      "metadata": {
        "id": "z6871tBG6234"
      }
    },
    {
      "cell_type": "code",
      "source": [
        "\"\"\"\n",
        "Alg:\n",
        "1. Take 3 nums as input\n",
        "2. use if else if to solve\n",
        "\"\"\"\n",
        "\n",
        "num1 = int(input(\"first number\"))\n",
        "num2 = int(input(\"seond number\"))\n",
        "num3 = int(input(\"third number\"))\n",
        "\n",
        "if num1>num2 and num1>num3:\n",
        "  print(f\"{num1} is largest\")\n",
        "elif num2>num3:\n",
        "  print(f\"{num2} is largest\")\n",
        "else:\n",
        "  print(f\"{num3} is largest\")"
      ],
      "metadata": {
        "id": "hUzmVovT9ZiF",
        "colab": {
          "base_uri": "https://localhost:8080/"
        },
        "outputId": "aba17712-5ebb-47d9-ccb1-8832159e1669"
      },
      "execution_count": 3,
      "outputs": [
        {
          "output_type": "stream",
          "name": "stdout",
          "text": [
            "first number65\n",
            "seond number32\n",
            "third number11\n",
            "65 is largest\n"
          ]
        }
      ]
    },
    {
      "cell_type": "markdown",
      "source": [
        "### 6. Swap two variables without using a third variable."
      ],
      "metadata": {
        "id": "AIeioU9MtxJ5"
      }
    },
    {
      "cell_type": "code",
      "source": [
        "a,b = 5,6\n",
        "a,b = b,a\n",
        "print(f\"a is {a} and b is {b}\")"
      ],
      "metadata": {
        "colab": {
          "base_uri": "https://localhost:8080/"
        },
        "id": "Fd6PpyzHt2ni",
        "outputId": "966f3a62-f259-43ca-993d-758c8e0aaea2"
      },
      "execution_count": 4,
      "outputs": [
        {
          "output_type": "stream",
          "name": "stdout",
          "text": [
            "a is 6 and b is 5\n"
          ]
        }
      ]
    },
    {
      "cell_type": "markdown",
      "source": [
        "### 7. Write a program to check if a string is a palindrome.\n"
      ],
      "metadata": {
        "id": "jii6GQ_DuEZr"
      }
    },
    {
      "cell_type": "code",
      "source": [
        "text = input(\"enter text\")\n",
        "if text == text[::-1]:\n",
        "  print(\"Palindrome\")\n",
        "else:\n",
        "  print(\"Not Palindrome\")"
      ],
      "metadata": {
        "colab": {
          "base_uri": "https://localhost:8080/"
        },
        "id": "H22eigIIuBwp",
        "outputId": "69fe7206-1248-4d5c-f88b-ee7755dee31a"
      },
      "execution_count": 5,
      "outputs": [
        {
          "output_type": "stream",
          "name": "stdout",
          "text": [
            "enter textanil\n",
            "Not Palindrome\n"
          ]
        }
      ]
    },
    {
      "cell_type": "markdown",
      "source": [
        "### 8. Print the Fibonacci sequence up to n terms.\n"
      ],
      "metadata": {
        "id": "13tWqRBZuJxo"
      }
    },
    {
      "cell_type": "code",
      "source": [
        "# using for loop to find upto n terms\n",
        "n = int(input(\"Enter the value of n\"))\n",
        "def fib(n):\n",
        "  if n in [0,1]:\n",
        "    return n\n",
        "  else:\n",
        "    return fib(n-1) + fib(n-2)\n",
        "\n",
        "for i in range(n):\n",
        "  print(fib(i))\n",
        "\n",
        "\n",
        "# using while loop to find b < n\n",
        "a,b = 0,1\n",
        "print(a)\n",
        "while b<n:\n",
        "  print(b)\n",
        "  a,b = b,a+b\n"
      ],
      "metadata": {
        "colab": {
          "base_uri": "https://localhost:8080/"
        },
        "id": "-iOjr1DtuNsU",
        "outputId": "169d69e5-c1cf-422f-caca-a6f9f8d7481a"
      },
      "execution_count": 8,
      "outputs": [
        {
          "output_type": "stream",
          "name": "stdout",
          "text": [
            "Enter the value of n10\n",
            "0\n",
            "1\n",
            "1\n",
            "2\n",
            "3\n",
            "5\n",
            "8\n",
            "13\n",
            "21\n",
            "34\n",
            "0\n",
            "1\n",
            "1\n",
            "2\n",
            "3\n",
            "5\n",
            "8\n"
          ]
        }
      ]
    },
    {
      "cell_type": "markdown",
      "source": [
        "### 9. Reverse a string without using slicing.\n"
      ],
      "metadata": {
        "id": "YOGpnWw-yuYm"
      }
    },
    {
      "cell_type": "code",
      "source": [
        "text = input(\"Enter the string\")\n",
        "print(text[::-1])\n",
        "\n",
        "for i in range(len(text)):\n",
        "  print(text[len(text)-1-i])"
      ],
      "metadata": {
        "colab": {
          "base_uri": "https://localhost:8080/"
        },
        "id": "ub_SljztvNI_",
        "outputId": "dc1400a8-6003-42c5-9b54-28d6286fe167"
      },
      "execution_count": 18,
      "outputs": [
        {
          "output_type": "stream",
          "name": "stdout",
          "text": [
            "Enter the stringanil\n",
            "lina\n",
            "l\n",
            "i\n",
            "n\n",
            "a\n"
          ]
        }
      ]
    },
    {
      "cell_type": "markdown",
      "source": [
        "### 10. Count the occurrences of each character in a string.\n",
        "\n",
        "\n"
      ],
      "metadata": {
        "id": "4xiLe-M313ZL"
      }
    },
    {
      "cell_type": "code",
      "source": [
        "text = input(\"Enter the string\")\n",
        "count_dict = dict()\n",
        "for each in text:\n",
        "  if each in count_dict:\n",
        "    count_dict[each] +=1\n",
        "  else:\n",
        "    count_dict[each] = 1\n",
        "\n",
        "print(f\"count dict is {count_dict}\")"
      ],
      "metadata": {
        "colab": {
          "base_uri": "https://localhost:8080/"
        },
        "id": "NFYIUvhHzXK8",
        "outputId": "5de292ad-091a-4aef-ec8d-05fc9393a561"
      },
      "execution_count": 21,
      "outputs": [
        {
          "output_type": "stream",
          "name": "stdout",
          "text": [
            "Enter the stringchinnia\n",
            "count dict is {'c': 1, 'h': 1, 'i': 2, 'n': 2, 'a': 1}\n"
          ]
        }
      ]
    },
    {
      "cell_type": "markdown",
      "source": [
        "### 11. Find the factorial of a number using recursion.\n",
        "\n"
      ],
      "metadata": {
        "id": "0HRCmigz2_1j"
      }
    },
    {
      "cell_type": "code",
      "source": [
        "def factorial(n):\n",
        "  if n in [0,1]:\n",
        "    return 1\n",
        "  return n * factorial(n-1)\n",
        "\n",
        "n = int(input(\"Enter the number\"))\n",
        "print(factorial(n))"
      ],
      "metadata": {
        "colab": {
          "base_uri": "https://localhost:8080/"
        },
        "id": "TxKT83IU3DWj",
        "outputId": "d2863c46-0e0e-41aa-add7-4168db3fd2a0"
      },
      "execution_count": 1,
      "outputs": [
        {
          "output_type": "stream",
          "name": "stdout",
          "text": [
            "Enter the number3\n",
            "6\n"
          ]
        }
      ]
    },
    {
      "cell_type": "markdown",
      "source": [
        "### 12. Write a program to find the sum of digits of a number.\n"
      ],
      "metadata": {
        "id": "njm-sbyf3zwF"
      }
    },
    {
      "cell_type": "code",
      "source": [
        "n = int(input(\"enter the number: \"))\n",
        "sum,rem = 0,0\n",
        "while n>0:\n",
        "  rem = n%10\n",
        "  sum += rem\n",
        "  n = n//10\n",
        "print(sum)"
      ],
      "metadata": {
        "colab": {
          "base_uri": "https://localhost:8080/"
        },
        "id": "am4r9keu3Sfd",
        "outputId": "d0a3a5f8-9d94-4ac0-ccf7-8ff359b39cc5"
      },
      "execution_count": 1,
      "outputs": [
        {
          "output_type": "stream",
          "name": "stdout",
          "text": [
            "enter the number: 345\n",
            "12\n"
          ]
        }
      ]
    },
    {
      "cell_type": "markdown",
      "source": [
        "### 13. Check if a number is a prime number.\n"
      ],
      "metadata": {
        "id": "5g5TNKot5elR"
      }
    },
    {
      "cell_type": "code",
      "source": [
        "# Take number, divide by half, if anynumber upto this divides this then not a prime number\n",
        "n = int(input(\"Enter the number: \"))\n",
        "if n<=1:\n",
        "  print(\"Not a prime number\")\n",
        "else:\n",
        "  for i in range(2, int(n/2)):\n",
        "    if n%i==0:\n",
        "      print(\"Not a prime number\")\n",
        "      break\n",
        "  else:\n",
        "    print(\"Prime Number\")"
      ],
      "metadata": {
        "colab": {
          "base_uri": "https://localhost:8080/"
        },
        "id": "BW-jjZZz4Q_q",
        "outputId": "a7ce1bdc-1645-4cb6-ce9d-c42248bb70e0"
      },
      "execution_count": 10,
      "outputs": [
        {
          "output_type": "stream",
          "name": "stdout",
          "text": [
            "Enter the number: 97\n",
            "Prime Number\n"
          ]
        }
      ]
    },
    {
      "cell_type": "markdown",
      "source": [
        "### 14. Convert temperature from Celsius to Fahrenheit and vice versa.\n"
      ],
      "metadata": {
        "id": "UV1nxF4L680L"
      }
    },
    {
      "cell_type": "code",
      "source": [
        "print(\"Chose your option\")\n",
        "print(\"1. Celsius to Fahrenheit\")\n",
        "print(\"2. Fahrenheit to Celsius\")\n",
        "choice = int(input(\"Enter your options\"))\n",
        "if choice == 1:\n",
        "  n= int(input(\"Enter the value in celcius\"))\n",
        "  print(f\"Fahrenheit is {n*9/5+32}\")\n",
        "elif choice == 2:\n",
        "  n= int(input(\"Enter the value in Fahrenheit\"))\n",
        "  print(f\"Celcius is {(n-32)*5/9}\")\n",
        "else:\n",
        "  print(\"Error\")"
      ],
      "metadata": {
        "colab": {
          "base_uri": "https://localhost:8080/"
        },
        "id": "PxVqMv8S6OB6",
        "outputId": "bb5637ef-a7e9-4282-bf6e-e252ac2bb0a5"
      },
      "execution_count": 2,
      "outputs": [
        {
          "output_type": "stream",
          "name": "stdout",
          "text": [
            "Chose your option\n",
            "1. Celsius to Fahrenheit\n",
            "2. Fahrenheit to Celsius\n",
            "Enter your options1\n",
            "Enter the value in celcius100\n",
            "Fahrenheit is 212.0\n"
          ]
        }
      ]
    },
    {
      "cell_type": "markdown",
      "source": [
        "### 15. Find the GCD and LCM of two numbers.\n"
      ],
      "metadata": {
        "id": "J6fzawc_jvr5"
      }
    },
    {
      "cell_type": "code",
      "source": [
        "a = int(input(\"enter the first nubmer\"))\n",
        "b = int(input(\"enter the second number\"))\n",
        "#GCD\n",
        "def gcd(a,b):\n",
        "  while b:\n",
        "    a,b = b,a%b\n",
        "  return a\n",
        "\n",
        "print(f\" GCD is {gcd(a,b)}\")\n",
        "print(f\" LCM is {(a*b)/gcd(a,b)}\")"
      ],
      "metadata": {
        "colab": {
          "base_uri": "https://localhost:8080/"
        },
        "id": "M6Ixq5D49XPp",
        "outputId": "510de560-42c2-44b1-a46c-ff2874215c57"
      },
      "execution_count": 15,
      "outputs": [
        {
          "output_type": "stream",
          "name": "stdout",
          "text": [
            "enter the first nubmer4\n",
            "enter the second number5\n",
            " GCD is 1\n",
            " LCM is 20.0\n"
          ]
        }
      ]
    },
    {
      "cell_type": "markdown",
      "source": [
        "### 16. Generate a list of squares from 1 to n."
      ],
      "metadata": {
        "id": "JNAslTShr1S4"
      }
    },
    {
      "cell_type": "code",
      "source": [
        "n = int(input(\"Enter the \"))\n",
        "print([x**2 for x in range(1,n+1)])"
      ],
      "metadata": {
        "colab": {
          "base_uri": "https://localhost:8080/"
        },
        "id": "tDi6Fl_fkFoP",
        "outputId": "35ba58fc-023b-4c38-f440-ecacd3b2fd7e"
      },
      "execution_count": 19,
      "outputs": [
        {
          "output_type": "stream",
          "name": "stdout",
          "text": [
            "Enter the 10\n",
            "[1, 4, 9, 16, 25, 36, 49, 64, 81, 100]\n"
          ]
        }
      ]
    },
    {
      "cell_type": "markdown",
      "source": [
        "### 17. Write a Python program to find the second largest element in a list."
      ],
      "metadata": {
        "id": "4PzENtjAtCs2"
      }
    },
    {
      "cell_type": "code",
      "source": [
        "input_list = list(map(int,input(\"Enter the list\").split()))\n",
        "print(input_list)"
      ],
      "metadata": {
        "colab": {
          "base_uri": "https://localhost:8080/"
        },
        "id": "vBNIHzQdny1v",
        "outputId": "6f223516-516b-437c-dfaa-a27e3c2b88bd"
      },
      "execution_count": 21,
      "outputs": [
        {
          "output_type": "stream",
          "name": "stdout",
          "text": [
            "Enter the list3 4 5 6\n",
            "[3, 4, 5, 6]\n"
          ]
        }
      ]
    },
    {
      "cell_type": "markdown",
      "source": [
        "### 18. Merge two lists and remove duplicates.\n",
        "\n",
        "\n"
      ],
      "metadata": {
        "id": "VqJ_BymrvDrr"
      }
    },
    {
      "cell_type": "code",
      "source": [
        "input_list1 = list(map(int,input(\"Enter the First list\").split()))\n",
        "input_list2 = list(map(int,input(\"Enter the second list\").split()))\n",
        "\n",
        "for val in input_list2:\n",
        "  if val not in input_list1:\n",
        "    input_list1.append(val)\n",
        "\n",
        "print(\"input_list is \",input_list1)\n",
        "\n",
        "print(input_list1)\n",
        "\n",
        "\n",
        "'''\n",
        "Review & Improvements\n",
        "Inefficient Membership Check (if val not in input_list1):\n",
        "\n",
        "Checking membership (in) in a list is O(n) complexity.\n",
        "Using a set would make it O(1).\n",
        "Better Approach Using set():\n",
        "\n",
        "Convert lists into a set for duplicate removal.\n",
        "Merge them and convert them back to a list.\n",
        "Alternative Approach Using set.union():\n",
        "\n",
        "More efficient merging without looping.\n",
        "'''\n",
        "input_list1 = list(map(int,input(\"Enter the First list\").split()))\n",
        "input_list2 = list(map(int,input(\"Enter the second list\").split()))\n",
        "print(list(set(input_list1).union(set(input_list2))))\n"
      ],
      "metadata": {
        "colab": {
          "base_uri": "https://localhost:8080/"
        },
        "id": "CDKUgiKEtrPV",
        "outputId": "e7ac1fe5-4c22-40b9-9f91-7fbfd2a2247c"
      },
      "execution_count": 23,
      "outputs": [
        {
          "output_type": "stream",
          "name": "stdout",
          "text": [
            "Enter the First list3 4 5\n",
            "Enter the second list3 4 2 \n",
            "input_list is  [3, 4, 5, 2]\n",
            "[3, 4, 5, 2]\n",
            "Enter the First list3 3 4 5 6\n",
            "Enter the second list4 5 2\n",
            "[2, 3, 4, 5, 6]\n"
          ]
        }
      ]
    },
    {
      "cell_type": "markdown",
      "source": [
        "### 19. Find the most frequent element in a list.\n"
      ],
      "metadata": {
        "id": "tmPYewqrwwd_"
      }
    },
    {
      "cell_type": "code",
      "source": [
        "input_list1=list(map(int,input(\"enter teh alist\").split()))\n",
        "count_dict={}\n",
        "for each in input_list1:\n",
        "  if each in count_dict:\n",
        "    count_dict[each]+=1\n",
        "  else:\n",
        "    count_dict[each]=1\n",
        "\n",
        "print(count_dict)"
      ],
      "metadata": {
        "colab": {
          "base_uri": "https://localhost:8080/"
        },
        "id": "Qr_T-GYLvw41",
        "outputId": "7dad9385-dff4-4239-f773-97060870e63d"
      },
      "execution_count": 24,
      "outputs": [
        {
          "output_type": "stream",
          "name": "stdout",
          "text": [
            "enter teh alist3 4 5 4 2 9 1\n",
            "{3: 1, 4: 2, 5: 1, 2: 1, 9: 1, 1: 1}\n"
          ]
        }
      ]
    },
    {
      "cell_type": "code",
      "source": [
        "from collections import Counter\n",
        "\n",
        "# Read input\n",
        "input_list1 = list(map(int, input(\"Enter the list: \").split()))\n",
        "\n",
        "# Count occurrences using Counter\n",
        "count_dict = Counter(input_list1)\n",
        "\n",
        "print(count_dict)\n"
      ],
      "metadata": {
        "colab": {
          "base_uri": "https://localhost:8080/"
        },
        "id": "yBnsZVRcxUDO",
        "outputId": "e50b01d1-b4e7-452b-84c9-66a06c6084b9"
      },
      "execution_count": 25,
      "outputs": [
        {
          "output_type": "stream",
          "name": "stdout",
          "text": [
            "Enter the list: 3 4 5 6 5\n",
            "Counter({5: 2, 3: 1, 4: 1, 6: 1})\n"
          ]
        }
      ]
    },
    {
      "cell_type": "code",
      "source": [
        "from collections import defaultdict\n",
        "\n",
        "# Read input\n",
        "input_list1 = list(map(int, input(\"Enter the list: \").split()))\n",
        "\n",
        "# Using defaultdict for automatic key initialization\n",
        "count_dict = defaultdict(int)\n",
        "\n",
        "for each in input_list1:\n",
        "    count_dict[each] += 1  # No need for if-else\n",
        "\n",
        "print(dict(count_dict))  # Convert to normal dictionary for display\n"
      ],
      "metadata": {
        "colab": {
          "base_uri": "https://localhost:8080/"
        },
        "id": "MHwaex484XD8",
        "outputId": "e1f1a10c-584e-4a48-ad3e-c821d0bb886d"
      },
      "execution_count": 28,
      "outputs": [
        {
          "output_type": "stream",
          "name": "stdout",
          "text": [
            "Enter the list: 1 1 1 1 1 4 4 5 5 6\n",
            "{1: 5, 4: 2, 5: 2, 6: 1}\n"
          ]
        }
      ]
    },
    {
      "cell_type": "code",
      "source": [
        "max(count_dict, key=count_dict.get)"
      ],
      "metadata": {
        "colab": {
          "base_uri": "https://localhost:8080/"
        },
        "id": "GJjBrZBD4cYr",
        "outputId": "732b90c6-9a1a-411e-9a9d-2571d0d6c4a3"
      },
      "execution_count": 30,
      "outputs": [
        {
          "output_type": "execute_result",
          "data": {
            "text/plain": [
              "1"
            ]
          },
          "metadata": {},
          "execution_count": 30
        }
      ]
    },
    {
      "cell_type": "markdown",
      "source": [
        "### 20. Count of words in sendtence"
      ],
      "metadata": {
        "id": "KsZGNSYi7wH4"
      }
    },
    {
      "cell_type": "code",
      "source": [
        "sentence= input(\"enter the sentence\")\n",
        "words_list=sentence.split()\n",
        "print(len(words_list))"
      ],
      "metadata": {
        "colab": {
          "base_uri": "https://localhost:8080/"
        },
        "id": "80wLjT847Brk",
        "outputId": "70095614-dfde-4c46-9edd-d71eb9629bfa"
      },
      "execution_count": 32,
      "outputs": [
        {
          "output_type": "stream",
          "name": "stdout",
          "text": [
            "enter the sentenceanil and sunil is good boy,but\n",
            "6\n"
          ]
        }
      ]
    },
    {
      "cell_type": "code",
      "source": [
        "import re\n",
        "\n",
        "sentence = input(\"Enter the sentence: \")\n",
        "words_list = re.findall(r\"\\b[\\w']+\\b\", sentence)  # Extracts only words\n",
        "print(len(words_list))\n",
        "'''\n",
        "Issue Without \\b\n",
        "It treats apostrophes (') as separators, so:\n",
        "\"Let's\" → \"Let\", \"s\" (Incorrect split)\n",
        "If you want \"Let's\" to stay together, \\b is better.\n",
        "'''"
      ],
      "metadata": {
        "colab": {
          "base_uri": "https://localhost:8080/",
          "height": 87
        },
        "id": "nwxOVwf18Apk",
        "outputId": "3fd4041e-b27b-4445-ff78-d90b5bce0133"
      },
      "execution_count": 46,
      "outputs": [
        {
          "output_type": "stream",
          "name": "stdout",
          "text": [
            "Enter the sentence: let's go together\n",
            "3\n"
          ]
        },
        {
          "output_type": "execute_result",
          "data": {
            "text/plain": [
              "'\\nIssue Without \\x08\\nIt treats apostrophes (\\') as separators, so:\\n\"Let\\'s\" → \"Let\", \"s\" (Incorrect split)\\nIf you want \"Let\\'s\" to stay together, \\x08 is better.\\n'"
            ],
            "application/vnd.google.colaboratory.intrinsic+json": {
              "type": "string"
            }
          },
          "metadata": {},
          "execution_count": 46
        }
      ]
    },
    {
      "cell_type": "code",
      "source": [
        "words_list"
      ],
      "metadata": {
        "colab": {
          "base_uri": "https://localhost:8080/"
        },
        "id": "dFfoInWc8Jsn",
        "outputId": "10600021-bd55-4989-ae03-d14385a3cfb7"
      },
      "execution_count": 47,
      "outputs": [
        {
          "output_type": "execute_result",
          "data": {
            "text/plain": [
              "[\"let's\", 'go', 'together']"
            ]
          },
          "metadata": {},
          "execution_count": 47
        }
      ]
    },
    {
      "cell_type": "code",
      "source": [],
      "metadata": {
        "id": "O_noSlDB8yZg"
      },
      "execution_count": null,
      "outputs": []
    }
  ]
}