{
  "nbformat": 4,
  "nbformat_minor": 0,
  "metadata": {
    "colab": {
      "provenance": [],
      "authorship_tag": "ABX9TyOncbcBzmxO5UsJHSONN2uN",
      "include_colab_link": true
    },
    "kernelspec": {
      "name": "python3",
      "display_name": "Python 3"
    },
    "language_info": {
      "name": "python"
    }
  },
  "cells": [
    {
      "cell_type": "markdown",
      "metadata": {
        "id": "view-in-github",
        "colab_type": "text"
      },
      "source": [
        "<a href=\"https://colab.research.google.com/github/Anilabhimanyu/PythonMastery/blob/main/Python_Mastery2.ipynb\" target=\"_parent\"><img src=\"https://colab.research.google.com/assets/colab-badge.svg\" alt=\"Open In Colab\"/></a>"
      ]
    },
    {
      "cell_type": "markdown",
      "source": [
        "Implement a function to check if a number is an Armstrong number.\n",
        "\n",
        "Sort a list of numbers without using built-in functions.\n",
        "\n",
        "Find all prime numbers in a given range.\n",
        "\n",
        "Implement a binary search algorithm.\n",
        "\n",
        "Create a program that reads a file and counts word occurrences.\n",
        "\n",
        "Remove all punctuation from a given string.\n",
        "\n",
        "Find common elements between two lists.\n",
        "\n",
        "Implement a basic contact book using a dictionary.\n",
        "\n",
        "Convert a decimal number to binary, octal, and hexadecimal.\n",
        "\n",
        "Implement a simple to-do list using Python.\n",
        "\n",
        "Create a basic password generator.\n",
        "\n",
        "Implement a queue using a list.\n",
        "\n",
        "Implement a stack using a list.\n",
        "\n",
        "Write a function to check if two strings are anagrams.\n",
        "\n",
        "Implement matrix addition and multiplication.\n",
        "\n",
        "Write a function to flatten a nested list.\n",
        "\n",
        "Find the longest word in a given sentence.\n",
        "\n",
        "Implement a program to check if a Sudoku board is valid.\n",
        "\n",
        "Create a dictionary from two lists using zip().\n",
        "\n",
        "Implement a simple quiz game using Python.\n",
        "\n",
        "Find all subsets of a given set using recursion.\n",
        "\n",
        "\n",
        "Implement a basic web scraper using requests and BeautifulSoup.\n",
        "\n",
        "Read and write CSV files using Python.\n",
        "\n",
        "Implement a function to solve a quadratic equation.\n",
        "\n",
        "Implement a basic stopwatch using time module.\n",
        "\n",
        "Create a simple ATM simulator.\n",
        "\n",
        "Implement a function that returns the most common word in a\n",
        "paragraph.\n",
        "\n",
        "Find the missing number in a given list of consecutive numbers.\n",
        "\n",
        "Implement a function to check if a given string is a valid email\n",
        "address.\n",
        "\n",
        "Implement bubble sort, selection sort, and insertion sort.\n",
        "\n"
      ],
      "metadata": {
        "id": "gVNpc4KXVgc4"
      }
    },
    {
      "cell_type": "code",
      "source": [],
      "metadata": {
        "id": "z0FBuhxaVuXD"
      },
      "execution_count": null,
      "outputs": []
    },
    {
      "cell_type": "markdown",
      "source": [
        "###[M] 21. Implement a function to check if a number is an Armstrong number.\n"
      ],
      "metadata": {
        "id": "LNeraYlUV0Mn"
      }
    },
    {
      "cell_type": "code",
      "source": [
        "def check_arm(n:int)->bool:\n",
        "  original = n\n",
        "  num_digits = len(str(n))\n",
        "  armstrong_sum = 0\n",
        "  for _ in range(num_digits):\n",
        "    digit = n % 10\n",
        "    armstrong_sum += digit ** num_digits\n",
        "    n //= 10\n",
        "  return armstrong_sum == original\n",
        "\n",
        "if check_arm(int(input(\"Enter the Number\"))):\n",
        "  print(\"Yes\") #153\n",
        "else:\n",
        "  print(\"No\") #"
      ],
      "metadata": {
        "colab": {
          "base_uri": "https://localhost:8080/"
        },
        "id": "zA9jb3RqV2T-",
        "outputId": "80de1578-e12f-498f-c4dd-33679588e791"
      },
      "execution_count": 4,
      "outputs": [
        {
          "output_type": "stream",
          "name": "stdout",
          "text": [
            "Enter the Number153\n",
            "Yes\n"
          ]
        }
      ]
    },
    {
      "cell_type": "markdown",
      "source": [
        "### [M] 22. Sort a list of numbers without using built-in functions.\n",
        "\n",
        "\n",
        "1.   Bubble Sort\n",
        "2.   Selection Sort\n",
        "\n"
      ],
      "metadata": {
        "id": "ulLc60DZl8CI"
      }
    },
    {
      "cell_type": "code",
      "source": [
        "## using built in method\n",
        "# -----------\n",
        "# nums=list(map(int,input(\"enter the list\").split()))\n",
        "# nums.sort()\n",
        "# print(nums)\n",
        "'''\n",
        "#Alg\n",
        "1. Read the list [3, 2, 1]\n",
        "2. Take min of each time and append to new list\n",
        "'''\n",
        "\n",
        "nums = list(map(int,input(\"List please\").split()))\n",
        "sorted_list=[]\n",
        "for _ in range(len(nums)): # O(n^2)\n",
        "  min_value=min(nums) # O(n)\n",
        "  nums.remove(min_value) # O(n)\n",
        "  sorted_list.append(min_value)\n",
        "print(\"sorted list\", sorted_list)\n",
        "\n",
        "'''\n",
        "# Code Review\n",
        "Issues in Your Code\n",
        "Inefficient Sorting (O(n²))\n",
        "\n",
        "Finding min(nums) in every iteration takes O(n).\n",
        "Removing elements from the list takes O(n).\n",
        "Since this happens for each of the n elements, the overall complexity is O(n²).\n",
        "This is inefficient for large lists.\n",
        "Modifies the Original List (nums)\n",
        "\n",
        "The input list is being modified (nums.remove(min_value)), which can lead to unintended side effects.\n",
        "'''"
      ],
      "metadata": {
        "colab": {
          "base_uri": "https://localhost:8080/"
        },
        "id": "UCxgY5tsWC9-",
        "outputId": "c6b97f2f-002f-4b50-fd1a-8582cc7970d0"
      },
      "execution_count": 5,
      "outputs": [
        {
          "output_type": "stream",
          "name": "stdout",
          "text": [
            "List please5 6 2 2 3\n",
            "sorted list [2, 2, 3, 5, 6]\n"
          ]
        }
      ]
    },
    {
      "cell_type": "code",
      "source": [
        "# Bubble Sort\n",
        "'''\n",
        "Alg:\n",
        "1. In every pass, we process only those elements that have already not moved to correct position.\n",
        "  After k passes, the largest k elements must have been moved to the last k positions.\n",
        "2. In a pass, we consider remaining elements and compare all adjacent and swap if larger element is\n",
        "  before a smaller element. If we keep doing this, we get the largest (among the remaining elements)\n",
        "  at its correct position.\n",
        "'''\n",
        "def bubble_sort(input_list):\n",
        "  for i in range(len(input_list)):\n",
        "    for j in range(1, len(input_list)-i):\n",
        "      if input_list[j-1]>input_list[j]:\n",
        "        input_list[j-1],input_list[j]=input_list[j],input_list[j-1]\n",
        "  return(input_list)\n",
        "\n",
        "input_list = list(map(int,input(\"Enter the unsorted List\").split()))\n",
        "print(\"sorted using bubble sort is \" , bubble_sort(input_list))"
      ],
      "metadata": {
        "colab": {
          "base_uri": "https://localhost:8080/"
        },
        "id": "Rh94q1fPmMfL",
        "outputId": "7109376d-c3bc-463f-91bc-0fc7a402f10f"
      },
      "execution_count": 10,
      "outputs": [
        {
          "output_type": "stream",
          "name": "stdout",
          "text": [
            "Enter the unsorted List5 3 4 2\n",
            "sorted using bubble sort is  [2, 3, 4, 5]\n"
          ]
        }
      ]
    },
    {
      "cell_type": "code",
      "source": [
        "# Selection Sort\n",
        "'''\n",
        "Alg:\n",
        "1. consider first index as min index, and compare with others, sort if condition breaks.\n",
        "2. This will take O(n^2) time.\n",
        "'''\n",
        "def selection_sort(input_list):\n",
        "  for i in range(len(input_list)):\n",
        "    min_index=i\n",
        "    for j in range(i,len(input_list)):\n",
        "      if input_list[j]<input_list[min_index]:\n",
        "        min_index=j\n",
        "    if min_index!=i:\n",
        "      input_list[i],input_list[min_index]=input_list[min_index],input_list[i]\n",
        "  return(input_list)\n",
        "\n",
        "\n",
        "input_list = list(map(int,input(\"Enter the unsorted List\").split()))\n",
        "print(\"sorted using selection sort is \" , selection_sort(input_list))"
      ],
      "metadata": {
        "id": "bHFEi9nYvqG1"
      },
      "execution_count": null,
      "outputs": []
    },
    {
      "cell_type": "markdown",
      "source": [
        "### 23. Find all prime numbers in a given range."
      ],
      "metadata": {
        "id": "raGQnLL141tw"
      }
    },
    {
      "cell_type": "code",
      "source": [
        "start = int(input(\"enter the starting range\"))\n",
        "end = int(input(\"enter the stop range\"))\n",
        "\n",
        "for i in range(start,end+1):\n",
        "  for j in range(2,int(i/2)+1):\n",
        "    if i%j == 0:\n",
        "      break\n",
        "  else:\n",
        "    print(i,end=\",\")\n",
        "\n",
        "# [x for x in range(start,end+1) if all(x%y!=0 for y in range(2,int(x/2)+1))]"
      ],
      "metadata": {
        "colab": {
          "base_uri": "https://localhost:8080/"
        },
        "id": "UeRBEiiT4gZ1",
        "outputId": "29f2db76-3098-4e39-9658-ef7daa184e96"
      },
      "execution_count": 23,
      "outputs": [
        {
          "output_type": "stream",
          "name": "stdout",
          "text": [
            "enter the starting range2\n",
            "enter the stop range100\n",
            "2,3,5,7,11,13,17,19,23,29,31,37,41,43,47,53,59,61,67,71,73,79,83,89,97,"
          ]
        }
      ]
    },
    {
      "cell_type": "code",
      "source": [
        "# sep is used for divide list of args in print function\n",
        "print(\"anil\",6,\"reddy\",sep=\"@\")\n",
        "print(\"anil\",\"kumar\",\"reddy\",sep=\"&\")"
      ],
      "metadata": {
        "colab": {
          "base_uri": "https://localhost:8080/"
        },
        "id": "oXbg4XvD5eVq",
        "outputId": "554684d5-cf20-4ddb-df1c-063c751814f1"
      },
      "execution_count": 26,
      "outputs": [
        {
          "output_type": "stream",
          "name": "stdout",
          "text": [
            "anil@6@reddy\n"
          ]
        }
      ]
    },
    {
      "cell_type": "markdown",
      "source": [
        "### [M] 24. Implement a binary search algorithm."
      ],
      "metadata": {
        "id": "M6PAI-J5Ez7Z"
      }
    },
    {
      "cell_type": "code",
      "source": [
        "'''\n",
        "Alg:\n",
        "1. First need to get sorted data\n",
        "2. min as first element, max as last elements\n",
        "'''\n",
        "\n",
        "input_list = list(map(int,input(\"enter the sorted list\").split()))\n",
        "search_element = int(input(\"enter the element\"))\n",
        "size = len(input_list)\n",
        "min=0\n",
        "max=size\n",
        "\n",
        "while max>min:\n",
        "  mid = (max+min)//2\n",
        "  if input_list[mid]==search_element:\n",
        "    print(f\"Element found at index: {mid}\")\n",
        "    break\n",
        "  elif input_list[mid]>search_element:\n",
        "    max = mid-1\n",
        "    # print(\"max is \",max)\n",
        "  else:\n",
        "    min = mid+1\n",
        "    # print(\"min is\",min)\n",
        "else:\n",
        "  # print(f\"min is {min} and max is {max}\")\n",
        "  print(\"Element Not Found\")\n"
      ],
      "metadata": {
        "colab": {
          "base_uri": "https://localhost:8080/"
        },
        "id": "-ttf83-EE3Qx",
        "outputId": "499c7232-74ee-41cd-ed0c-05580e0acba3"
      },
      "execution_count": 32,
      "outputs": [
        {
          "output_type": "stream",
          "name": "stdout",
          "text": [
            "enter the sorted list3 4 5\n",
            "enter the element6\n",
            "min is 2\n",
            "min is 3\n",
            "min is 3 and max is 3\n",
            "Element Not Found\n"
          ]
        }
      ]
    },
    {
      "cell_type": "markdown",
      "source": [
        "### [M] 25. Create a program that reads a file and counts word occurrences.\n"
      ],
      "metadata": {
        "id": "qhC4poEhLFxH"
      }
    },
    {
      "cell_type": "code",
      "source": [],
      "metadata": {
        "id": "qODpl1ckIeRv"
      },
      "execution_count": null,
      "outputs": []
    }
  ]
}